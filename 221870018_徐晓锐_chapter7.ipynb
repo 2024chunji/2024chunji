{
 "cells": [
  {
   "cell_type": "markdown",
   "id": "bdbb1837",
   "metadata": {},
   "source": [
    "# 第七章"
   ]
  },
  {
   "cell_type": "markdown",
   "id": "d78c1f64",
   "metadata": {},
   "source": [
    "## 7.1 input()函数工作原理"
   ]
  },
  {
   "cell_type": "code",
   "execution_count": 1,
   "id": "d976fabd",
   "metadata": {},
   "outputs": [
    {
     "name": "stdout",
     "output_type": "stream",
     "text": [
      "please enter your name:xuxiaorui\n",
      "\n",
      "hello,xuxiaorui!\n"
     ]
    }
   ],
   "source": [
    "#程序等待用户输入，并在用户按下回车后继续运行\n",
    "name = input(\"please enter your name:\")\n",
    "print(f\"\\nhello,{name}!\")"
   ]
  },
  {
   "cell_type": "code",
   "execution_count": 2,
   "id": "38b80e0d",
   "metadata": {},
   "outputs": [
    {
     "name": "stdout",
     "output_type": "stream",
     "text": [
      "weare\n",
      "1\n"
     ]
    }
   ],
   "source": [
    "#自赋值运算符\n",
    "prompt =\"we\"\n",
    "prompt=prompt+\"are\"\n",
    "n=0\n",
    "n=n+1\n",
    "print(prompt)\n",
    "print(n)"
   ]
  },
  {
   "cell_type": "code",
   "execution_count": 3,
   "id": "738f0c43",
   "metadata": {},
   "outputs": [
    {
     "name": "stdout",
     "output_type": "stream",
     "text": [
      "how old21\n"
     ]
    },
    {
     "ename": "TypeError",
     "evalue": "'>=' not supported between instances of 'str' and 'int'",
     "output_type": "error",
     "traceback": [
      "\u001b[1;31m---------------------------------------------------------------------------\u001b[0m",
      "\u001b[1;31mTypeError\u001b[0m                                 Traceback (most recent call last)",
      "Cell \u001b[1;32mIn[3], line 3\u001b[0m\n\u001b[0;32m      1\u001b[0m \u001b[38;5;66;03m#获取数值输入\u001b[39;00m\n\u001b[0;32m      2\u001b[0m age \u001b[38;5;241m=\u001b[39m \u001b[38;5;28minput\u001b[39m(\u001b[38;5;124m\"\u001b[39m\u001b[38;5;124mhow old\u001b[39m\u001b[38;5;124m\"\u001b[39m)\n\u001b[1;32m----> 3\u001b[0m \u001b[38;5;28mprint\u001b[39m(age\u001b[38;5;241m>\u001b[39m\u001b[38;5;241m=\u001b[39m\u001b[38;5;241m18\u001b[39m)\n",
      "\u001b[1;31mTypeError\u001b[0m: '>=' not supported between instances of 'str' and 'int'"
     ]
    }
   ],
   "source": [
    "#获取数值输入\n",
    "age = input(\"how old\")\n",
    "print(age>=18)"
   ]
  },
  {
   "cell_type": "code",
   "execution_count": 4,
   "id": "f6a53017",
   "metadata": {},
   "outputs": [
    {
     "name": "stdout",
     "output_type": "stream",
     "text": [
      "how old21\n",
      "True\n"
     ]
    }
   ],
   "source": [
    "#获取数值输入\n",
    "age = input(\"how old\")\n",
    "age=int(age)\n",
    "print(age>=18)"
   ]
  },
  {
   "cell_type": "code",
   "execution_count": 6,
   "id": "38e46286",
   "metadata": {},
   "outputs": [
    {
     "data": {
      "text/plain": [
       "1"
      ]
     },
     "execution_count": 6,
     "metadata": {},
     "output_type": "execute_result"
    }
   ],
   "source": [
    "#求模运算\n",
    "\n",
    "4%2==1\n",
    "4%3"
   ]
  },
  {
   "cell_type": "markdown",
   "id": "d9ea2561",
   "metadata": {},
   "source": [
    "## 7.2 使用while循环"
   ]
  },
  {
   "cell_type": "code",
   "execution_count": 1,
   "id": "88d0a0c1",
   "metadata": {},
   "outputs": [
    {
     "name": "stdout",
     "output_type": "stream",
     "text": [
      "1\n",
      "2\n"
     ]
    }
   ],
   "source": [
    "c=1\n",
    "while c<3:\n",
    "    print(c)\n",
    "    c+=1"
   ]
  },
  {
   "cell_type": "code",
   "execution_count": 7,
   "id": "cdbcac74",
   "metadata": {},
   "outputs": [
    {
     "name": "stdout",
     "output_type": "stream",
     "text": [
      "\n",
      "Tell me:\n",
      "Enter 'quit' to endwhat is your name quit \n",
      "what is your name quit \n",
      "\n",
      "Tell me:\n",
      "Enter 'quit' to endquit\n",
      "quit\n"
     ]
    }
   ],
   "source": [
    "#让用户选择何时退出\n",
    "pro=\"\\nTell me:\"\n",
    "pro+=\"\\nEnter 'quit' to end\"\n",
    "message=\"\"\n",
    "while message !='quit':\n",
    "    message =input(pro)\n",
    "    print(message)"
   ]
  },
  {
   "cell_type": "code",
   "execution_count": 9,
   "id": "528acaad",
   "metadata": {},
   "outputs": [
    {
     "name": "stdout",
     "output_type": "stream",
     "text": [
      "\n",
      "Tell me:\n",
      "Enter 'quit' to endw\n",
      "w\n",
      "\n",
      "Tell me:\n",
      "Enter 'quit' to enda\n",
      "a\n",
      "\n",
      "Tell me:\n",
      "Enter 'quit' to endquit\n"
     ]
    }
   ],
   "source": [
    "#使用标志\n",
    "pro=\"\\nTell me:\"\n",
    "pro+=\"\\nEnter 'quit' to end\"\n",
    "message=\"\"\n",
    "a=True\n",
    "while a:\n",
    "    message =input(pro)\n",
    "    if message =='quit':\n",
    "        a= False\n",
    "    else:\n",
    "        print(message)"
   ]
  },
  {
   "cell_type": "code",
   "execution_count": 2,
   "id": "7a2b2727",
   "metadata": {},
   "outputs": [
    {
     "name": "stdout",
     "output_type": "stream",
     "text": [
      "1\n",
      "3\n",
      "5\n"
     ]
    }
   ],
   "source": [
    "#使用break退出循环continue跳过此循环\n",
    "n=0\n",
    "while True:\n",
    "    if n>5:\n",
    "        break\n",
    "    n+=1\n",
    "    if n%2==0:\n",
    "        continue\n",
    "    print(n)"
   ]
  },
  {
   "cell_type": "markdown",
   "id": "72391374",
   "metadata": {},
   "source": [
    "## 使用while循环处理列表和字典"
   ]
  },
  {
   "cell_type": "code",
   "execution_count": 11,
   "id": "4de74e64",
   "metadata": {},
   "outputs": [
    {
     "name": "stdout",
     "output_type": "stream",
     "text": [
      "Verifying user:Candace\n",
      "Verifying user:Brain\n",
      "Verifying user:Alice\n",
      "\n",
      "user:\n",
      "Candace\n",
      "Brain\n",
      "Alice\n"
     ]
    }
   ],
   "source": [
    "unuser=['alice','brain','candace']\n",
    "user=[]\n",
    "while unuser:\n",
    "    cuser=unuser.pop()\n",
    "    print(f\"Verifying user:{cuser.title()}\")\n",
    "    user.append(cuser)\n",
    "print(\"\\nuser:\")\n",
    "for cuser in user:\n",
    "    print(cuser.title())"
   ]
  },
  {
   "cell_type": "code",
   "execution_count": 13,
   "id": "6c0f8176",
   "metadata": {},
   "outputs": [
    {
     "name": "stdout",
     "output_type": "stream",
     "text": [
      "['dog', 'cat', 'dog', 'cat', 'rabbit']\n",
      "['dog', 'dog', 'rabbit']\n"
     ]
    }
   ],
   "source": [
    "#删除为特定值的所以列表元素\n",
    "pets=['dog','cat','dog','cat','rabbit']\n",
    "print(pets)\n",
    "while 'cat'in pets:\n",
    "    pets.remove('cat')\n",
    "print(pets)"
   ]
  },
  {
   "cell_type": "code",
   "execution_count": 15,
   "id": "54207f98",
   "metadata": {},
   "outputs": [
    {
     "name": "stdout",
     "output_type": "stream",
     "text": [
      "\n",
      "What is your name?xaiohong\n",
      "\n",
      "What is your opinonn\n",
      "Have more(yes/no)yes\n",
      "\n",
      "What is your name?xxx\n",
      "\n",
      "What is your opinona\n",
      "Have more(yes/no)no\n"
     ]
    }
   ],
   "source": [
    "#使用用户输入填充字典\n",
    "re={}\n",
    "while True:\n",
    "    name = input(\"\\nWhat is your name?\")\n",
    "    r = input(\"\\nWhat is your opinon\")\n",
    "    re[name]=r\n",
    "    if input(\"Have more(yes/no)\") == 'no':\n",
    "        break"
   ]
  },
  {
   "cell_type": "code",
   "execution_count": 16,
   "id": "84707205",
   "metadata": {},
   "outputs": [
    {
     "name": "stdout",
     "output_type": "stream",
     "text": [
      "{'xaiohong': 'n', 'xxx': 'a'}\n"
     ]
    }
   ],
   "source": [
    "print(re)"
   ]
  },
  {
   "cell_type": "code",
   "execution_count": null,
   "id": "2e55c518",
   "metadata": {},
   "outputs": [],
   "source": []
  }
 ],
 "metadata": {
  "kernelspec": {
   "display_name": "Python 3 (ipykernel)",
   "language": "python",
   "name": "python3"
  },
  "language_info": {
   "codemirror_mode": {
    "name": "ipython",
    "version": 3
   },
   "file_extension": ".py",
   "mimetype": "text/x-python",
   "name": "python",
   "nbconvert_exporter": "python",
   "pygments_lexer": "ipython3",
   "version": "3.11.5"
  }
 },
 "nbformat": 4,
 "nbformat_minor": 5
}
