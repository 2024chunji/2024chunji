{
 "cells": [
  {
   "cell_type": "markdown",
   "id": "c64d1750",
   "metadata": {},
   "source": [
    "# 第十章 文件和异常"
   ]
  },
  {
   "cell_type": "markdown",
   "id": "a589d414",
   "metadata": {},
   "source": [
    "## 10.1读取文件"
   ]
  },
  {
   "cell_type": "code",
   "execution_count": 7,
   "id": "f5fcb0c9",
   "metadata": {},
   "outputs": [
    {
     "name": "stdout",
     "output_type": "stream",
     "text": [
      "3.1415926535\n",
      "   8979323846\n",
      "   2643383279\n"
     ]
    }
   ],
   "source": [
    "from pathlib import Path\n",
    "path = Path('pi_digits.txt')\n",
    "contents=path.read_text()\n",
    "print(contents)"
   ]
  },
  {
   "cell_type": "code",
   "execution_count": 8,
   "id": "ce820963",
   "metadata": {},
   "outputs": [
    {
     "name": "stdout",
     "output_type": "stream",
     "text": [
      "3.1415926535\n",
      "   8979323846\n",
      "   2643383279\n"
     ]
    }
   ],
   "source": [
    "contents=contents.rstrip()\n",
    "print(contents)"
   ]
  },
  {
   "cell_type": "code",
   "execution_count": 10,
   "id": "7270704e",
   "metadata": {},
   "outputs": [
    {
     "name": "stdout",
     "output_type": "stream",
     "text": [
      "3.1415926535\n",
      "   8979323846\n",
      "   2643383279\n"
     ]
    }
   ],
   "source": [
    "#相对路径与绝对路径\n",
    "path =Path('C:/Users/22187/221870018_徐晓锐_chapter10/pi_digits.txt')\n",
    "contents=path.read_text()\n",
    "print(contents)\n",
    "#复制的文件地址为‘\\',要改为'/'"
   ]
  },
  {
   "cell_type": "code",
   "execution_count": 13,
   "id": "a9e960bb",
   "metadata": {},
   "outputs": [
    {
     "name": "stdout",
     "output_type": "stream",
     "text": [
      "3.141592653589793238462643383279\n",
      "32\n"
     ]
    }
   ],
   "source": [
    "#访问文件的各行\n",
    "lines=contents.splitlines()\n",
    "pi_string=''\n",
    "for line in lines:\n",
    "    pi_string+=line.lstrip()#删除空格\n",
    "print(pi_string)\n",
    "print(len(pi_string))"
   ]
  },
  {
   "cell_type": "code",
   "execution_count": 14,
   "id": "74067a39",
   "metadata": {},
   "outputs": [
    {
     "name": "stdout",
     "output_type": "stream",
     "text": [
      "3.1415926535...\n"
     ]
    }
   ],
   "source": [
    "#这里引用的是100万位的圆周率文件，但是我没有，所以用小的代替\n",
    "print(f\"{pi_string[:12]}...\")#只打印小数点后10位"
   ]
  },
  {
   "cell_type": "code",
   "execution_count": 16,
   "id": "f12a2bbc",
   "metadata": {},
   "outputs": [
    {
     "name": "stdout",
     "output_type": "stream",
     "text": [
      "1120\n",
      "no\n"
     ]
    }
   ],
   "source": [
    "#测试圆周率中是否包含某个数字串\n",
    "b=input()\n",
    "if b in pi_string:\n",
    "    print(\"yes\")\n",
    "else:\n",
    "    print(\"no\")"
   ]
  },
  {
   "cell_type": "markdown",
   "id": "17d09aa4",
   "metadata": {},
   "source": [
    "## 10.2写入文件"
   ]
  },
  {
   "cell_type": "code",
   "execution_count": 21,
   "id": "982f7259",
   "metadata": {},
   "outputs": [
    {
     "data": {
      "text/plain": [
       "20"
      ]
     },
     "execution_count": 21,
     "metadata": {},
     "output_type": "execute_result"
    }
   ],
   "source": [
    "path=Path('pro.txt')\n",
    "path.write_text(\"I love programmming.\")"
   ]
  },
  {
   "cell_type": "code",
   "execution_count": 22,
   "id": "e26d93f7",
   "metadata": {},
   "outputs": [
    {
     "data": {
      "text/plain": [
       "59"
      ]
     },
     "execution_count": 22,
     "metadata": {},
     "output_type": "execute_result"
    }
   ],
   "source": [
    "contents = \"\\n\"\n",
    "contents+=\"I love creating new games.\\n\"\n",
    "contents+=\"I also love working with data.\\n\"\n",
    "path.write_text(contents)\n",
    "##写入之后，前面写入的会被清除"
   ]
  },
  {
   "cell_type": "markdown",
   "id": "6a26af85",
   "metadata": {},
   "source": [
    "## 10.3 异常"
   ]
  },
  {
   "cell_type": "code",
   "execution_count": 23,
   "id": "49892a84",
   "metadata": {},
   "outputs": [
    {
     "ename": "ZeroDivisionError",
     "evalue": "division by zero",
     "output_type": "error",
     "traceback": [
      "\u001b[1;31m---------------------------------------------------------------------------\u001b[0m",
      "\u001b[1;31mZeroDivisionError\u001b[0m                         Traceback (most recent call last)",
      "Cell \u001b[1;32mIn[23], line 1\u001b[0m\n\u001b[1;32m----> 1\u001b[0m \u001b[38;5;28mprint\u001b[39m(\u001b[38;5;241m5\u001b[39m\u001b[38;5;241m/\u001b[39m\u001b[38;5;241m0\u001b[39m)\n",
      "\u001b[1;31mZeroDivisionError\u001b[0m: division by zero"
     ]
    }
   ],
   "source": [
    "print(5/0)"
   ]
  },
  {
   "cell_type": "code",
   "execution_count": 24,
   "id": "6049e84a",
   "metadata": {},
   "outputs": [
    {
     "name": "stdout",
     "output_type": "stream",
     "text": [
      "You cant\n"
     ]
    }
   ],
   "source": [
    "try:\n",
    "    print(5/0)\n",
    "except ZeroDivisionError:\n",
    "    print(\"You cant\")"
   ]
  },
  {
   "cell_type": "code",
   "execution_count": 25,
   "id": "fff82a31",
   "metadata": {},
   "outputs": [
    {
     "name": "stdout",
     "output_type": "stream",
     "text": [
      "'q' to quit\n",
      "\n",
      "5\n",
      "\n",
      "0\n"
     ]
    },
    {
     "ename": "ZeroDivisionError",
     "evalue": "division by zero",
     "output_type": "error",
     "traceback": [
      "\u001b[1;31m---------------------------------------------------------------------------\u001b[0m",
      "\u001b[1;31mZeroDivisionError\u001b[0m                         Traceback (most recent call last)",
      "Cell \u001b[1;32mIn[25], line 10\u001b[0m\n\u001b[0;32m      8\u001b[0m \u001b[38;5;28;01mif\u001b[39;00m s\u001b[38;5;241m==\u001b[39m\u001b[38;5;124m'\u001b[39m\u001b[38;5;124mq\u001b[39m\u001b[38;5;124m'\u001b[39m:\n\u001b[0;32m      9\u001b[0m     \u001b[38;5;28;01mbreak\u001b[39;00m\n\u001b[1;32m---> 10\u001b[0m a\u001b[38;5;241m=\u001b[39m\u001b[38;5;28mint\u001b[39m(f)\u001b[38;5;241m/\u001b[39m\u001b[38;5;28mint\u001b[39m(s)\n\u001b[0;32m     11\u001b[0m \u001b[38;5;28mprint\u001b[39m(a)\n",
      "\u001b[1;31mZeroDivisionError\u001b[0m: division by zero"
     ]
    }
   ],
   "source": [
    "#一个简单的计算器\n",
    "print(\"'q' to quit\")\n",
    "while True:\n",
    "    f=input(\"\\n\")\n",
    "    if f=='q':\n",
    "        break\n",
    "    s=input(\"\\n\")\n",
    "    if s=='q':\n",
    "        break\n",
    "    a=int(f)/int(s)\n",
    "    print(a)\n",
    "    "
   ]
  },
  {
   "cell_type": "code",
   "execution_count": 27,
   "id": "69aed8f8",
   "metadata": {},
   "outputs": [
    {
     "name": "stdout",
     "output_type": "stream",
     "text": [
      "'q' to quit\n",
      "\n",
      "5\n",
      "\n",
      "0\n",
      "You cant\n",
      "\n",
      "5\n",
      "\n",
      "2\n",
      "2.5\n",
      "\n",
      "q\n"
     ]
    }
   ],
   "source": [
    "#添加else模块\n",
    "print(\"'q' to quit\")\n",
    "while True:\n",
    "    f=input(\"\\n\")\n",
    "    if f=='q':\n",
    "        break\n",
    "    s=input(\"\\n\")\n",
    "    if s=='q':\n",
    "        break\n",
    "    try:    \n",
    "        a=int(f)/int(s)\n",
    "    except ZeroDivisionError:\n",
    "         print(\"You cant\")\n",
    "    else:\n",
    "        print(a)"
   ]
  },
  {
   "cell_type": "code",
   "execution_count": 28,
   "id": "91a2f5c8",
   "metadata": {},
   "outputs": [
    {
     "ename": "FileNotFoundError",
     "evalue": "[Errno 2] No such file or directory: 'alice.txt'",
     "output_type": "error",
     "traceback": [
      "\u001b[1;31m---------------------------------------------------------------------------\u001b[0m",
      "\u001b[1;31mFileNotFoundError\u001b[0m                         Traceback (most recent call last)",
      "Cell \u001b[1;32mIn[28], line 3\u001b[0m\n\u001b[0;32m      1\u001b[0m \u001b[38;5;66;03m#处理FileNotFoundError异常\u001b[39;00m\n\u001b[0;32m      2\u001b[0m path\u001b[38;5;241m=\u001b[39mPath(\u001b[38;5;124m'\u001b[39m\u001b[38;5;124malice.txt\u001b[39m\u001b[38;5;124m'\u001b[39m)\n\u001b[1;32m----> 3\u001b[0m contents\u001b[38;5;241m=\u001b[39mpath\u001b[38;5;241m.\u001b[39mread_text(encoding\u001b[38;5;241m=\u001b[39m\u001b[38;5;124m'\u001b[39m\u001b[38;5;124mutf-8\u001b[39m\u001b[38;5;124m'\u001b[39m)\n",
      "File \u001b[1;32m~\\anaconda3\\Lib\\pathlib.py:1058\u001b[0m, in \u001b[0;36mPath.read_text\u001b[1;34m(self, encoding, errors)\u001b[0m\n\u001b[0;32m   1054\u001b[0m \u001b[38;5;250m\u001b[39m\u001b[38;5;124;03m\"\"\"\u001b[39;00m\n\u001b[0;32m   1055\u001b[0m \u001b[38;5;124;03mOpen the file in text mode, read it, and close the file.\u001b[39;00m\n\u001b[0;32m   1056\u001b[0m \u001b[38;5;124;03m\"\"\"\u001b[39;00m\n\u001b[0;32m   1057\u001b[0m encoding \u001b[38;5;241m=\u001b[39m io\u001b[38;5;241m.\u001b[39mtext_encoding(encoding)\n\u001b[1;32m-> 1058\u001b[0m \u001b[38;5;28;01mwith\u001b[39;00m \u001b[38;5;28mself\u001b[39m\u001b[38;5;241m.\u001b[39mopen(mode\u001b[38;5;241m=\u001b[39m\u001b[38;5;124m'\u001b[39m\u001b[38;5;124mr\u001b[39m\u001b[38;5;124m'\u001b[39m, encoding\u001b[38;5;241m=\u001b[39mencoding, errors\u001b[38;5;241m=\u001b[39merrors) \u001b[38;5;28;01mas\u001b[39;00m f:\n\u001b[0;32m   1059\u001b[0m     \u001b[38;5;28;01mreturn\u001b[39;00m f\u001b[38;5;241m.\u001b[39mread()\n",
      "File \u001b[1;32m~\\anaconda3\\Lib\\pathlib.py:1044\u001b[0m, in \u001b[0;36mPath.open\u001b[1;34m(self, mode, buffering, encoding, errors, newline)\u001b[0m\n\u001b[0;32m   1042\u001b[0m \u001b[38;5;28;01mif\u001b[39;00m \u001b[38;5;124m\"\u001b[39m\u001b[38;5;124mb\u001b[39m\u001b[38;5;124m\"\u001b[39m \u001b[38;5;129;01mnot\u001b[39;00m \u001b[38;5;129;01min\u001b[39;00m mode:\n\u001b[0;32m   1043\u001b[0m     encoding \u001b[38;5;241m=\u001b[39m io\u001b[38;5;241m.\u001b[39mtext_encoding(encoding)\n\u001b[1;32m-> 1044\u001b[0m \u001b[38;5;28;01mreturn\u001b[39;00m io\u001b[38;5;241m.\u001b[39mopen(\u001b[38;5;28mself\u001b[39m, mode, buffering, encoding, errors, newline)\n",
      "\u001b[1;31mFileNotFoundError\u001b[0m: [Errno 2] No such file or directory: 'alice.txt'"
     ]
    }
   ],
   "source": [
    "#处理FileNotFoundError异常\n",
    "path=Path('alice.txt')\n",
    "contents=path.read_text(encoding='utf-8')"
   ]
  },
  {
   "cell_type": "code",
   "execution_count": 29,
   "id": "ed0bc288",
   "metadata": {},
   "outputs": [
    {
     "name": "stdout",
     "output_type": "stream",
     "text": [
      "the file alice.txt not exist\n"
     ]
    }
   ],
   "source": [
    "path=Path('alice.txt')\n",
    "try:\n",
    "    contents=path.read_text(encoding='utf-8')\n",
    "except FileNotFoundError:\n",
    "    print(f\"the file {path} not exist\")"
   ]
  },
  {
   "cell_type": "code",
   "execution_count": 30,
   "id": "d83fe38a",
   "metadata": {},
   "outputs": [],
   "source": [
    "#split()一空白为分隔符，将字符串拆分为多个部分"
   ]
  },
  {
   "cell_type": "code",
   "execution_count": 31,
   "id": "4bb0e645",
   "metadata": {},
   "outputs": [],
   "source": [
    "path=Path('alice.txt')\n",
    "try:\n",
    "    contents=path.read_text(encoding='utf-8')\n",
    "except FileNotFoundError:\n",
    "    pass\n",
    "#静默失败"
   ]
  },
  {
   "cell_type": "markdown",
   "id": "7b571931",
   "metadata": {},
   "source": [
    "## 10.4 储存数据"
   ]
  },
  {
   "cell_type": "code",
   "execution_count": 33,
   "id": "b7d7e70b",
   "metadata": {},
   "outputs": [
    {
     "data": {
      "text/plain": [
       "20"
      ]
     },
     "execution_count": 33,
     "metadata": {},
     "output_type": "execute_result"
    }
   ],
   "source": [
    "import json\n",
    "numbers=[2,3,5,7,11,13]\n",
    "path=Path('number.json')\n",
    "contents=json.dumps(numbers)#生成字符串\n",
    "path.write_text(contents)"
   ]
  },
  {
   "cell_type": "code",
   "execution_count": 34,
   "id": "9f7b02ef",
   "metadata": {},
   "outputs": [
    {
     "name": "stdout",
     "output_type": "stream",
     "text": [
      "[2, 3, 5, 7, 11, 13]\n"
     ]
    }
   ],
   "source": [
    "contents=path.read_text()\n",
    "numbers=json.loads(contents)\n",
    "print(numbers)"
   ]
  },
  {
   "cell_type": "code",
   "execution_count": 35,
   "id": "805f833f",
   "metadata": {},
   "outputs": [
    {
     "name": "stdout",
     "output_type": "stream",
     "text": [
      "What is your name ?Eric\n"
     ]
    },
    {
     "data": {
      "text/plain": [
       "6"
      ]
     },
     "execution_count": 35,
     "metadata": {},
     "output_type": "execute_result"
    }
   ],
   "source": [
    "#保存和读取用户生成的数据\n",
    "username=input(\"What is your name ?\")\n",
    "path=Path('username.json')\n",
    "contents=json.dumps(username)\n",
    "path.write_text(contents)\n",
    "print(\"We will remember !\")"
   ]
  },
  {
   "cell_type": "code",
   "execution_count": 38,
   "id": "e237f57a",
   "metadata": {},
   "outputs": [
    {
     "name": "stdout",
     "output_type": "stream",
     "text": [
      "welcome back,Eric !\n"
     ]
    }
   ],
   "source": [
    "contents=path.read_text()\n",
    "username=json.loads(contents)\n",
    "print(f\"welcome back,{username} !\")"
   ]
  },
  {
   "cell_type": "code",
   "execution_count": 39,
   "id": "096bfa8e",
   "metadata": {},
   "outputs": [
    {
     "name": "stdout",
     "output_type": "stream",
     "text": [
      "welcome back,Eric !\n"
     ]
    }
   ],
   "source": [
    "#重构\n",
    "def get(path):\n",
    "    if path.exists():\n",
    "        contents=path.read_text()\n",
    "        username=json.loads(contents)\n",
    "        return username\n",
    "    else:\n",
    "        return None\n",
    "def greet():\n",
    "    path =Path('username.json')\n",
    "    username=get(path)\n",
    "    if username:\n",
    "        print(f\"welcome back,{username} !\")\n",
    "    else:\n",
    "        username=input(\"What is your name ?\")\n",
    "        path=Path('username.json')\n",
    "        contents=json.dumps(username)\n",
    "        path.write_text(contents)\n",
    "        print(\"We will remember !\")\n",
    "greet()"
   ]
  },
  {
   "cell_type": "code",
   "execution_count": null,
   "id": "6bd679b3",
   "metadata": {},
   "outputs": [],
   "source": []
  }
 ],
 "metadata": {
  "kernelspec": {
   "display_name": "Python 3 (ipykernel)",
   "language": "python",
   "name": "python3"
  },
  "language_info": {
   "codemirror_mode": {
    "name": "ipython",
    "version": 3
   },
   "file_extension": ".py",
   "mimetype": "text/x-python",
   "name": "python",
   "nbconvert_exporter": "python",
   "pygments_lexer": "ipython3",
   "version": "3.11.5"
  }
 },
 "nbformat": 4,
 "nbformat_minor": 5
}
