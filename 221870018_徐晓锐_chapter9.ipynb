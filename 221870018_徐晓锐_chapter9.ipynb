{
 "cells": [
  {
   "cell_type": "markdown",
   "id": "77ac87ba",
   "metadata": {},
   "source": [
    "# 第九章 类"
   ]
  },
  {
   "cell_type": "markdown",
   "id": "036922d4",
   "metadata": {},
   "source": [
    "## 9.1创建和使用类"
   ]
  },
  {
   "cell_type": "code",
   "execution_count": 7,
   "id": "925b65ee",
   "metadata": {},
   "outputs": [],
   "source": [
    "class Dog:\n",
    "    def __init__(self,name,age):#此函数自动执行，self自动传入\n",
    "        self.name=name\n",
    "        self.age=age\n",
    "    def sit(self):\n",
    "        \"\"\"模拟小狗收到命令时坐下\"\"\"\n",
    "        print(f\"{self.name} is now sitting.\")\n",
    "    def roll_over(self):\n",
    "        \"\"\"模拟小狗收到命令时打滚\"\"\"\n",
    "        print(f\"{self.name}rolled over!\")"
   ]
  },
  {
   "cell_type": "code",
   "execution_count": 8,
   "id": "ca7a7603",
   "metadata": {},
   "outputs": [
    {
     "name": "stdout",
     "output_type": "stream",
     "text": [
      "My dog's name is Willie\n",
      "My dog is 6 years old\n",
      "Willie is now sitting.\n",
      "Willierolled over!\n"
     ]
    }
   ],
   "source": [
    "\n",
    "my_dog = Dog('Willie',6)#my_dog相当于self传入\n",
    "print(f\"My dog's name is {my_dog.name}\")\n",
    "print(f\"My dog is {my_dog.age} years old\")\n",
    "my_dog.sit()\n",
    "my_dog.roll_over()"
   ]
  },
  {
   "cell_type": "markdown",
   "id": "737101a3",
   "metadata": {},
   "source": [
    "## 9.2使用类和实例"
   ]
  },
  {
   "cell_type": "code",
   "execution_count": 15,
   "id": "d8c15b3f",
   "metadata": {},
   "outputs": [
    {
     "name": "stdout",
     "output_type": "stream",
     "text": [
      "2024 Audi A4\n"
     ]
    }
   ],
   "source": [
    "class Car:\n",
    "    def __init__(self,make,model,year):\n",
    "        self.make=make\n",
    "        self.model=model\n",
    "        self.year=year\n",
    "    def get_des_name(self):\n",
    "        long_name=f\"{self.year} {self.make} {self.model}\"\n",
    "        return long_name.title()\n",
    "mycar=Car('audi','a4','2024')\n",
    "print(mycar.get_des_name())"
   ]
  },
  {
   "cell_type": "code",
   "execution_count": 18,
   "id": "82806507",
   "metadata": {},
   "outputs": [
    {
     "name": "stdout",
     "output_type": "stream",
     "text": [
      "2024 Audi A4\n",
      "This car has 0 miles on it.\n"
     ]
    }
   ],
   "source": [
    "class Car:\n",
    "    def __init__(self,make,model,year):\n",
    "        self.make=make\n",
    "        self.model=model\n",
    "        self.year=year\n",
    "        self.od=0\n",
    "    def odd(self):\n",
    "        print(f\"This car has {self.od} miles on it.\")\n",
    "    def get_des_name(self):\n",
    "        long_name=f\"{self.year} {self.make} {self.model}\"\n",
    "        return long_name.title()\n",
    "mycar=Car('audi','a4','2024')\n",
    "print(mycar.get_des_name())\n",
    "mycar.odd()"
   ]
  },
  {
   "cell_type": "code",
   "execution_count": 21,
   "id": "9647d69d",
   "metadata": {},
   "outputs": [
    {
     "name": "stdout",
     "output_type": "stream",
     "text": [
      "2024 Audi A4\n",
      "This car has 23 miles on it.\n"
     ]
    }
   ],
   "source": [
    "#使用其他方法更改\n",
    "class Car:\n",
    "    \n",
    "    def __init__(self,make,model,year):\n",
    "        self.make=make\n",
    "        self.model=model\n",
    "        self.year=year\n",
    "        self.od=0\n",
    "    def get_des_name(self):\n",
    "        long_name=f\"{self.year} {self.make} {self.model}\"\n",
    "        return long_name.title()\n",
    "    def update(self,mil):\n",
    "        self.od=mil\n",
    "    def odd(self):\n",
    "        print(f\"This car has {self.od} miles on it.\")\n",
    "mycar=Car('audi','a4','2024')\n",
    "print(mycar.get_des_name())\n",
    "mycar.update(23)\n",
    "mycar.odd()"
   ]
  },
  {
   "cell_type": "code",
   "execution_count": 22,
   "id": "cb3d6e0d",
   "metadata": {},
   "outputs": [
    {
     "name": "stdout",
     "output_type": "stream",
     "text": [
      "This car has 23 miles on it.\n"
     ]
    }
   ],
   "source": [
    "#使用点号可以直接访问修改默认属性\n",
    "mycar.od=23\n",
    "mycar.odd()"
   ]
  },
  {
   "cell_type": "code",
   "execution_count": 25,
   "id": "5ec11ebe",
   "metadata": {},
   "outputs": [
    {
     "name": "stdout",
     "output_type": "stream",
     "text": [
      "2019 Audi A4\n",
      "This car has 23500 miles on it.\n",
      "This car has 23600 miles on it.\n"
     ]
    }
   ],
   "source": [
    "#将某个数值递增\n",
    "class Car:\n",
    "    def __init__(self,make,model,year):\n",
    "        self.make=make\n",
    "        self.model=model\n",
    "        self.year=year\n",
    "        self.od=0\n",
    "    def get_des_name(self):\n",
    "        long_name=f\"{self.year} {self.make} {self.model}\"\n",
    "        return long_name.title()\n",
    "    def update(self,mil):\n",
    "        self.od=mil\n",
    "    def odd(self):\n",
    "        print(f\"This car has {self.od} miles on it.\")\n",
    "    def inc(self,miles):\n",
    "        self.od+=miles\n",
    "mycar=Car('audi','a4','2019')\n",
    "print(mycar.get_des_name())\n",
    "mycar.update(23500)\n",
    "mycar.odd()\n",
    "mycar.inc(100)\n",
    "mycar.odd()"
   ]
  },
  {
   "cell_type": "markdown",
   "id": "6888382e",
   "metadata": {},
   "source": [
    "## 9.3 继承"
   ]
  },
  {
   "cell_type": "code",
   "execution_count": 40,
   "id": "be61a9cb",
   "metadata": {},
   "outputs": [
    {
     "name": "stdout",
     "output_type": "stream",
     "text": [
      "2024 Nissan Leaf\n"
     ]
    }
   ],
   "source": [
    "class Car:\n",
    "    def __init__(self,make,model,year):\n",
    "        self.make=make\n",
    "        self.model=model\n",
    "        self.year=year\n",
    "        self.od=0\n",
    "    def get_des_name(self):\n",
    "        long_name=f\"{self.year} {self.make} {self.model}\"\n",
    "        return long_name.title()\n",
    "    def update(self,mil):\n",
    "        self.od=mil\n",
    "    def odd(self):\n",
    "        print(f\"This car has {self.od} miles on it.\")\n",
    "    def inc(self,miles):\n",
    "        self.od+=miles\n",
    "class ECar(Car):\n",
    "    def __init__(self,make,model,year):\n",
    "        \"\"\"初始化父类属性\"\"\"\n",
    "        super().__init__(make,model,year)\n",
    "my_leaf= ECar('nissan','leaf',2024)\n",
    "print(my_leaf.get_des_name())"
   ]
  },
  {
   "cell_type": "code",
   "execution_count": 42,
   "id": "90881fd1",
   "metadata": {},
   "outputs": [
    {
     "name": "stdout",
     "output_type": "stream",
     "text": [
      "2024 Nissan Leaf\n",
      "This car has a 40-KWh battery.\n"
     ]
    }
   ],
   "source": [
    "class ECar(Car):\n",
    "    def __init__(self,make,model,year):\n",
    "        \"\"\"初始化父类属性\"\"\"\n",
    "        super().__init__(make,model,year)\n",
    "        self.battery_size=40\n",
    "    def des_battery(self):\n",
    "        print(f\"This car has a {self.battery_size}-KWh battery.\")\n",
    "my_leaf= ECar('nissan','leaf',2024)\n",
    "print(my_leaf.get_des_name())\n",
    "my_leaf.des_battery()"
   ]
  },
  {
   "cell_type": "code",
   "execution_count": 44,
   "id": "6d5090f1",
   "metadata": {},
   "outputs": [],
   "source": [
    "##也可以重写父类中的方法,去掉父类里不需要的糟粕\n",
    "class ECar(Car):\n",
    "    def __init__(self,make,model,year):\n",
    "        \"\"\"初始化父类属性\"\"\"\n",
    "        super().__init__(make,model,year)\n",
    "        self.battery_size=40\n",
    "    def des_battery(self):\n",
    "        print(f\"This car has a {self.battery_size}-KWh battery.\")\n",
    "    def fill_gas(self):\n",
    "        print(\"NO\")\n",
    "              "
   ]
  },
  {
   "cell_type": "code",
   "execution_count": 45,
   "id": "44bbcc70",
   "metadata": {},
   "outputs": [
    {
     "name": "stdout",
     "output_type": "stream",
     "text": [
      "2024 Nissan Leaf\n",
      "This car has a 40-KWh battery.\n"
     ]
    }
   ],
   "source": [
    "#将实例用作属性\n",
    "class Car:\n",
    "    def __init__(self,make,model,year):\n",
    "        self.make=make\n",
    "        self.model=model\n",
    "        self.year=year\n",
    "        self.od=0\n",
    "    def get_des_name(self):\n",
    "        long_name=f\"{self.year} {self.make} {self.model}\"\n",
    "        return long_name.title()\n",
    "    def update(self,mil):\n",
    "        self.od=mil\n",
    "    def odd(self):\n",
    "        print(f\"This car has {self.od} miles on it.\")\n",
    "    def inc(self,miles):\n",
    "        self.od+=miles\n",
    "class Battery:\n",
    "    def __init__(self,battery_size=40):\n",
    "        self.battery_size=battery_size\n",
    "    def des_battery(self):\n",
    "         print(f\"This car has a {self.battery_size}-KWh battery.\")\n",
    "class ECar(Car):\n",
    "    def __init__(self,make,model,year):\n",
    "        \"\"\"初始化父类属性\"\"\"\n",
    "        super().__init__(make,model,year)\n",
    "        self.battery=Battery()\n",
    "my_leaf= ECar('nissan','leaf',2024)\n",
    "print(my_leaf.get_des_name())\n",
    "my_leaf.battery.des_battery()"
   ]
  },
  {
   "cell_type": "markdown",
   "id": "aca23dbd",
   "metadata": {},
   "source": [
    "## 9.4 导入类"
   ]
  },
  {
   "cell_type": "code",
   "execution_count": 1,
   "id": "29879ff9",
   "metadata": {},
   "outputs": [],
   "source": [
    "#从模块中导入\n",
    "#新建文件car.py\n",
    "#from car import ElectricCar引入一个函数\n",
    "#from car import ElectricCar,Car引入多个\n",
    "#import car引入整个模块\n",
    "#也可以将一个模块导入另一个模块\n",
    "#给模块或者类别名\n",
    "#from electric_car import ElectricCar as EC\n",
    "#import electric_car as ec"
   ]
  },
  {
   "cell_type": "markdown",
   "id": "f3abd019",
   "metadata": {},
   "source": [
    "## 9..5标准库\n"
   ]
  },
  {
   "cell_type": "code",
   "execution_count": 2,
   "id": "3b8d1dde",
   "metadata": {},
   "outputs": [
    {
     "data": {
      "text/plain": [
       "2"
      ]
     },
     "execution_count": 2,
     "metadata": {},
     "output_type": "execute_result"
    }
   ],
   "source": [
    "from random import randint\n",
    "randint(1,6)"
   ]
  },
  {
   "cell_type": "code",
   "execution_count": 3,
   "id": "12fbccad",
   "metadata": {},
   "outputs": [
    {
     "data": {
      "text/plain": [
       "'d'"
      ]
     },
     "execution_count": 3,
     "metadata": {},
     "output_type": "execute_result"
    }
   ],
   "source": [
    "from random import choice\n",
    "p=['pl','a','d','c']\n",
    "f=choice(p)\n",
    "f"
   ]
  },
  {
   "cell_type": "code",
   "execution_count": null,
   "id": "87cf7fd7",
   "metadata": {},
   "outputs": [],
   "source": []
  }
 ],
 "metadata": {
  "kernelspec": {
   "display_name": "Python 3 (ipykernel)",
   "language": "python",
   "name": "python3"
  },
  "language_info": {
   "codemirror_mode": {
    "name": "ipython",
    "version": 3
   },
   "file_extension": ".py",
   "mimetype": "text/x-python",
   "name": "python",
   "nbconvert_exporter": "python",
   "pygments_lexer": "ipython3",
   "version": "3.11.5"
  }
 },
 "nbformat": 4,
 "nbformat_minor": 5
}
