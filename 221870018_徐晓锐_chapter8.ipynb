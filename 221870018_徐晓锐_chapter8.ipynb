{
 "cells": [
  {
   "cell_type": "markdown",
   "id": "81260cf2",
   "metadata": {},
   "source": [
    "# 第八章 函数"
   ]
  },
  {
   "cell_type": "markdown",
   "id": "05107933",
   "metadata": {},
   "source": [
    "## 8.1定义函数"
   ]
  },
  {
   "cell_type": "code",
   "execution_count": 1,
   "id": "5eff4dae",
   "metadata": {},
   "outputs": [
    {
     "name": "stdout",
     "output_type": "stream",
     "text": [
      "hello\n"
     ]
    }
   ],
   "source": [
    "#定义函数\n",
    "def greet():\n",
    "    print(\"hello\")\n",
    "greet()"
   ]
  },
  {
   "cell_type": "code",
   "execution_count": 2,
   "id": "e41a5ebd",
   "metadata": {},
   "outputs": [
    {
     "name": "stdout",
     "output_type": "stream",
     "text": [
      "Hello,Jesse\n"
     ]
    }
   ],
   "source": [
    "##函数加入实参jesse和形参user\n",
    "def greet(user):\n",
    "    print(f\"Hello,{user.title()}\")\n",
    "greet('jesse')"
   ]
  },
  {
   "cell_type": "markdown",
   "id": "5f65a285",
   "metadata": {},
   "source": [
    "## 8.2传递实参"
   ]
  },
  {
   "cell_type": "code",
   "execution_count": 3,
   "id": "fb4d7d39",
   "metadata": {},
   "outputs": [
    {
     "name": "stdout",
     "output_type": "stream",
     "text": [
      "\n",
      " I have acat.\n",
      "My cat name is Harry.\n",
      "\n",
      " I have adog.\n",
      "My dog name is Lucky.\n"
     ]
    }
   ],
   "source": [
    "#基于实参的顺序进行关联\n",
    "def dpet(atype,name):\n",
    "    print(f\"\\n I have a{atype}.\")\n",
    "    print(f\"My {atype} name is {name.title()}.\")\n",
    "dpet('cat','harry')\n",
    "dpet('dog','lucky')\n",
    "    "
   ]
  },
  {
   "cell_type": "code",
   "execution_count": null,
   "id": "6c28c44e",
   "metadata": {},
   "outputs": [],
   "source": [
    "#也可以基于名称\n",
    "dpet(atype='cat',name='harry')\n",
    "dpet(name='harry',atype='cat')"
   ]
  },
  {
   "cell_type": "code",
   "execution_count": 5,
   "id": "147d62e2",
   "metadata": {},
   "outputs": [
    {
     "name": "stdout",
     "output_type": "stream",
     "text": [
      "\n",
      " I have adog.\n",
      "My dog name is While.\n",
      "\n",
      " I have acat.\n",
      "My cat name is Harry.\n"
     ]
    }
   ],
   "source": [
    "#可以给函数一个默认值\n",
    "def dpet(name,atype='dog'):\n",
    "    print(f\"\\n I have a{atype}.\")\n",
    "    print(f\"My {atype} name is {name.title()}.\")\n",
    "dpet('while')\n",
    "dpet(name='harry',atype='cat')"
   ]
  },
  {
   "cell_type": "markdown",
   "id": "a4bfbb24",
   "metadata": {},
   "source": [
    "## 8.3 简单的返回值"
   ]
  },
  {
   "cell_type": "code",
   "execution_count": 7,
   "id": "894ed02e",
   "metadata": {},
   "outputs": [
    {
     "name": "stdout",
     "output_type": "stream",
     "text": [
      "Jimi Hendrix\n"
     ]
    }
   ],
   "source": [
    "def getname(f,l):\n",
    "    fu=f\"{f} {l}\"\n",
    "    return fu.title()\n",
    "mu=getname('jimi','hendrix')\n",
    "print(mu)"
   ]
  },
  {
   "cell_type": "code",
   "execution_count": 9,
   "id": "634dda61",
   "metadata": {},
   "outputs": [
    {
     "name": "stdout",
     "output_type": "stream",
     "text": [
      "Jimi Hendrix\n",
      "John Lee Hook\n"
     ]
    }
   ],
   "source": [
    "#让实参变成可选\n",
    "def getn(f,l,m=''):\n",
    "    if m:\n",
    "        fu=f\"{f} {m} {l}\"\n",
    "    else:\n",
    "        fu=f\"{f} {l}\"\n",
    "    return fu.title()\n",
    "mu= getn('jimi','hendrix')\n",
    "print(mu)\n",
    "mu=getn('john','hook','lee')\n",
    "print(mu)"
   ]
  },
  {
   "cell_type": "code",
   "execution_count": 10,
   "id": "f9b1b725",
   "metadata": {},
   "outputs": [
    {
     "name": "stdout",
     "output_type": "stream",
     "text": [
      "{'fi': 'jimi', 'la': 'hendrix'}\n"
     ]
    }
   ],
   "source": [
    "#返回一个字典\n",
    "def per(f,l):\n",
    "    p={'fi':f,'la':l}\n",
    "    return p\n",
    "mu=per('jimi','hendrix')\n",
    "print(mu)"
   ]
  },
  {
   "cell_type": "code",
   "execution_count": 13,
   "id": "70129251",
   "metadata": {},
   "outputs": [
    {
     "name": "stdout",
     "output_type": "stream",
     "text": [
      "\n",
      "Please tell me your name:\n",
      "(enter'q' at any time to quit)\n",
      "firet name :lala\n",
      "Last name:yuyu\n",
      "Lala Yuyu\n",
      "\n",
      "Please tell me your name:\n",
      "(enter'q' at any time to quit)\n",
      "firet name :lalaaa\n",
      "Last name:yyyy\n",
      "Lalaaa Yyyy\n",
      "\n",
      "Please tell me your name:\n",
      "(enter'q' at any time to quit)\n",
      "firet name :q\n"
     ]
    }
   ],
   "source": [
    "#使用函数和while循环\n",
    "def get(f,l):\n",
    "    fu=f\"{f} {l}\"\n",
    "    return fu.title()\n",
    "while True :\n",
    "    print(\"\\nPlease tell me your name:\")\n",
    "    print(\"(enter'q' at any time to quit)\")\n",
    "    f=input(\"firet name :\")\n",
    "    if f=='q':\n",
    "        break\n",
    "    l=input(\"Last name:\")\n",
    "    if l=='q':\n",
    "        break\n",
    "    form =get(f,l)\n",
    "    print(form)"
   ]
  },
  {
   "cell_type": "markdown",
   "id": "b9ac26b8",
   "metadata": {},
   "source": [
    "## 传递列表"
   ]
  },
  {
   "cell_type": "code",
   "execution_count": 14,
   "id": "eaf74288",
   "metadata": {},
   "outputs": [
    {
     "name": "stdout",
     "output_type": "stream",
     "text": [
      "Hello,Haannn!\n",
      "Hello,Yuyu!\n",
      "Hello,Tatatb!\n"
     ]
    }
   ],
   "source": [
    "def greet(names):\n",
    "    for name in names:\n",
    "        msg = f\"Hello,{name.title()}!\"\n",
    "        print(msg)\n",
    "user = ['haannn','yuyu','tatatb']\n",
    "greet(user)"
   ]
  },
  {
   "cell_type": "code",
   "execution_count": 15,
   "id": "da7cac13",
   "metadata": {},
   "outputs": [
    {
     "name": "stdout",
     "output_type": "stream",
     "text": [
      "Verifying user:Candace\n",
      "Verifying user:Brain\n",
      "Verifying user:Alice\n",
      "\n",
      "user:\n",
      "Candace\n",
      "Brain\n",
      "Alice\n"
     ]
    }
   ],
   "source": [
    "#在函数中修改列表\n",
    "unuser=['alice','brain','candace']\n",
    "user=[]\n",
    "while unuser:\n",
    "    cuser=unuser.pop()\n",
    "    print(f\"Verifying user:{cuser.title()}\")\n",
    "    user.append(cuser)\n",
    "print(\"\\nuser:\")\n",
    "for cuser in user:\n",
    "    print(cuser.title())"
   ]
  },
  {
   "cell_type": "code",
   "execution_count": 18,
   "id": "c46c59ff",
   "metadata": {},
   "outputs": [
    {
     "name": "stdout",
     "output_type": "stream",
     "text": [
      "Verifying user:Candace\n",
      "Verifying user:Brain\n",
      "Verifying user:Alice\n",
      "\n",
      "user:\n",
      "Candace\n",
      "Brain\n",
      "Alice\n",
      "[]\n"
     ]
    }
   ],
   "source": [
    "unuser=['alice','brain','candace']\n",
    "user=[]\n",
    "def vuser(unuser,cuser):\n",
    "      while unuser:\n",
    "        cuser=unuser.pop()\n",
    "        print(f\"Verifying user:{cuser.title()}\")\n",
    "        user.append(cuser)\n",
    "def show(user):\n",
    "    print(\"\\nuser:\")\n",
    "    for cuser in user:\n",
    "        print(cuser.title())\n",
    "vuser(unuser,user)\n",
    "show(user)\n"
   ]
  },
  {
   "cell_type": "code",
   "execution_count": 19,
   "id": "aedc69c4",
   "metadata": {},
   "outputs": [
    {
     "name": "stdout",
     "output_type": "stream",
     "text": [
      "[]\n"
     ]
    }
   ],
   "source": [
    "print(unuser)"
   ]
  },
  {
   "cell_type": "code",
   "execution_count": 20,
   "id": "a8439520",
   "metadata": {},
   "outputs": [
    {
     "name": "stdout",
     "output_type": "stream",
     "text": [
      "Verifying user:Candace\n",
      "Verifying user:Brain\n",
      "Verifying user:Alice\n",
      "\n",
      "user:\n",
      "Candace\n",
      "Brain\n",
      "Alice\n",
      "['alice', 'brain', 'candace']\n"
     ]
    }
   ],
   "source": [
    "#使用切片将复制列表传给函数，防止原列表被修改\n",
    "unuser=['alice','brain','candace']\n",
    "user=[]\n",
    "vuser(unuser[:],user)\n",
    "show(user)\n",
    "print(unuser)"
   ]
  },
  {
   "cell_type": "markdown",
   "id": "db8efe7f",
   "metadata": {},
   "source": [
    "## 8.5 传递任意数量的实参"
   ]
  },
  {
   "cell_type": "code",
   "execution_count": 21,
   "id": "e63be640",
   "metadata": {},
   "outputs": [
    {
     "name": "stdout",
     "output_type": "stream",
     "text": [
      "('ppp',)\n",
      "('a', 'b', 'c')\n"
     ]
    }
   ],
   "source": [
    "def make(*top):\n",
    "    print(top)\n",
    "make('ppp')\n",
    "make('a','b','c')"
   ]
  },
  {
   "cell_type": "code",
   "execution_count": 25,
   "id": "4e171cab",
   "metadata": {},
   "outputs": [
    {
     "name": "stdout",
     "output_type": "stream",
     "text": [
      " -a\n",
      " -a\n",
      " -b\n"
     ]
    }
   ],
   "source": [
    "def make(*top):\n",
    "    for t in top:\n",
    "        print(f\" -{t}\")\n",
    "make('a')\n",
    "make('a','b')"
   ]
  },
  {
   "cell_type": "code",
   "execution_count": 26,
   "id": "3e904473",
   "metadata": {},
   "outputs": [
    {
     "name": "stdout",
     "output_type": "stream",
     "text": [
      "{'location': 'printce', 'filed': 'phy', 'first name': 'albert', 'last name': 'einsyt'}\n"
     ]
    }
   ],
   "source": [
    "#使用任意数量的关键字实参\n",
    "def build(f,l,**u):\n",
    "    u['first name']=f\n",
    "    u['last name']=l\n",
    "    return u\n",
    "user=build('albert','einsyt',location='printce',filed='phy')\n",
    "print(user)"
   ]
  },
  {
   "cell_type": "markdown",
   "id": "0c56e270",
   "metadata": {},
   "source": [
    "## 8.6 导入整个模块"
   ]
  },
  {
   "cell_type": "code",
   "execution_count": 27,
   "id": "ed5510bb",
   "metadata": {},
   "outputs": [],
   "source": [
    "#在文件夹里新建文件name.py,写入函数，使用import name进行调用\n",
    "#采用模块名.函数名()进行函数调用"
   ]
  },
  {
   "cell_type": "code",
   "execution_count": 28,
   "id": "cad35c72",
   "metadata": {},
   "outputs": [],
   "source": [
    "#导入特定函数\n",
    "#from modulename import functionname\n",
    "#导入函数不止一个用，隔开\n"
   ]
  },
  {
   "cell_type": "code",
   "execution_count": null,
   "id": "793abdd4",
   "metadata": {},
   "outputs": [],
   "source": [
    "#使用as给函数制定别名\n",
    "##from modulename import functionname as fn\n",
    "##import modulename as mn\n",
    "#导入所有函数from modulename import *"
   ]
  }
 ],
 "metadata": {
  "kernelspec": {
   "display_name": "Python 3 (ipykernel)",
   "language": "python",
   "name": "python3"
  },
  "language_info": {
   "codemirror_mode": {
    "name": "ipython",
    "version": 3
   },
   "file_extension": ".py",
   "mimetype": "text/x-python",
   "name": "python",
   "nbconvert_exporter": "python",
   "pygments_lexer": "ipython3",
   "version": "3.11.5"
  }
 },
 "nbformat": 4,
 "nbformat_minor": 5
}
