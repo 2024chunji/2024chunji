{
 "cells": [
  {
   "cell_type": "markdown",
   "id": "6dcae73c",
   "metadata": {},
   "source": [
    "# 第二章 变量与数据类型"
   ]
  },
  {
   "cell_type": "markdown",
   "id": "cc8cd609",
   "metadata": {},
   "source": [
    "## 2.3字符串"
   ]
  },
  {
   "cell_type": "code",
   "execution_count": null,
   "id": "f2d44e7c",
   "metadata": {},
   "outputs": [],
   "source": [
    "#三引号“““”””可以创建跨行字符串"
   ]
  },
  {
   "cell_type": "code",
   "execution_count": 33,
   "id": "3f275b80",
   "metadata": {},
   "outputs": [
    {
     "name": "stdout",
     "output_type": "stream",
     "text": [
      "Ada Lovelace\n",
      "ADA LOVELACE\n",
      "ada lovelace\n"
     ]
    }
   ],
   "source": [
    "#修改大小写\n",
    "name=\"ada lovelace\"\n",
    "print(name.title())\n",
    "name=\"Ada Lovelace\"\n",
    "print(name.upper())\n",
    "print(name.lower())"
   ]
  },
  {
   "cell_type": "code",
   "execution_count": 36,
   "id": "3fa81581",
   "metadata": {},
   "outputs": [
    {
     "name": "stdout",
     "output_type": "stream",
     "text": [
      "xiaorui xu\n",
      "Hello,Xiaorui Xu!\n"
     ]
    }
   ],
   "source": [
    "#f字符串\n",
    "first_name=\"xiaorui\"\n",
    "last_name=\"xu\"\n",
    "full_name=f\"{first_name} {last_name}\"\n",
    "print(full_name)\n",
    "m=f\"Hello,{full_name.title()}!\"\n",
    "print(m)"
   ]
  },
  {
   "cell_type": "code",
   "execution_count": 4,
   "id": "f027cff0",
   "metadata": {},
   "outputs": [
    {
     "name": "stdout",
     "output_type": "stream",
     "text": [
      "Python Rust\n",
      "\n",
      "Python\tRust\n",
      "\n",
      "Python\n",
      "Rust\n",
      "\n"
     ]
    }
   ],
   "source": [
    "print('Python Rust')\n",
    "print()\n",
    "print('Python\\tRust')\n",
    "print()\n",
    "print('Python\\nRust')\n",
    "print()"
   ]
  },
  {
   "cell_type": "code",
   "execution_count": 5,
   "id": "066fea25",
   "metadata": {},
   "outputs": [],
   "source": [
    "#删除空白"
   ]
  },
  {
   "cell_type": "code",
   "execution_count": 8,
   "id": "40ddce0c",
   "metadata": {},
   "outputs": [
    {
     "data": {
      "text/plain": [
       "'iTruing'"
      ]
     },
     "execution_count": 8,
     "metadata": {},
     "output_type": "execute_result"
    }
   ],
   "source": [
    "' iTruing'.lstrip()\n",
    "\n"
   ]
  },
  {
   "cell_type": "code",
   "execution_count": 9,
   "id": "2fafbdc5",
   "metadata": {},
   "outputs": [
    {
     "data": {
      "text/plain": [
       "'iTruing'"
      ]
     },
     "execution_count": 9,
     "metadata": {},
     "output_type": "execute_result"
    }
   ],
   "source": [
    "' iTruing '.strip()"
   ]
  },
  {
   "cell_type": "code",
   "execution_count": 10,
   "id": "f04da28e",
   "metadata": {},
   "outputs": [
    {
     "data": {
      "text/plain": [
       "'iTruing'"
      ]
     },
     "execution_count": 10,
     "metadata": {},
     "output_type": "execute_result"
    }
   ],
   "source": [
    "'iTruing '.rstrip()"
   ]
  },
  {
   "cell_type": "code",
   "execution_count": 11,
   "id": "35649af1",
   "metadata": {},
   "outputs": [
    {
     "name": "stdout",
     "output_type": "stream",
     "text": [
      "Hi,iTuring!\n"
     ]
    }
   ],
   "source": [
    "name=\"iTuring\"\n",
    "print(f\"Hi,{name}!\")"
   ]
  },
  {
   "cell_type": "code",
   "execution_count": null,
   "id": "3368e228",
   "metadata": {},
   "outputs": [],
   "source": [
    "name=\"iTuring  \"\n",
    "print(f\"Hi,{name.rstrip()}!\")"
   ]
  },
  {
   "cell_type": "code",
   "execution_count": null,
   "id": "8333f909",
   "metadata": {},
   "outputs": [],
   "source": [
    "name=\" iTuring\"\n",
    "print(f\"Hi,{name.lstrisp()}!\")"
   ]
  },
  {
   "cell_type": "code",
   "execution_count": 12,
   "id": "19c3d1c8",
   "metadata": {},
   "outputs": [
    {
     "name": "stdout",
     "output_type": "stream",
     "text": [
      "Hi,iTuring!\n"
     ]
    }
   ],
   "source": [
    "name=\" iTuring \"\n",
    "print(f\"Hi,{name.strip()}!\")"
   ]
  },
  {
   "cell_type": "code",
   "execution_count": 13,
   "id": "accfd10c",
   "metadata": {},
   "outputs": [],
   "source": [
    "#删除前缀removeprefix()"
   ]
  },
  {
   "cell_type": "code",
   "execution_count": 16,
   "id": "32aaa6e0",
   "metadata": {},
   "outputs": [
    {
     "name": "stdout",
     "output_type": "stream",
     "text": [
      "www.ituring.com.cn\n"
     ]
    }
   ],
   "source": [
    "ur1='https://www.ituring.com.cn'\n",
    "ur2=ur1.removeprefix('https://')\n",
    "print(ur2)"
   ]
  },
  {
   "cell_type": "code",
   "execution_count": 20,
   "id": "aaff3457",
   "metadata": {},
   "outputs": [
    {
     "data": {
      "text/plain": [
       "'xiaoxuxiaoxu'"
      ]
     },
     "execution_count": 20,
     "metadata": {},
     "output_type": "execute_result"
    }
   ],
   "source": [
    "#字符串拼接\n",
    "\"xiaoxu\"*2"
   ]
  },
  {
   "cell_type": "code",
   "execution_count": 21,
   "id": "71495da4",
   "metadata": {},
   "outputs": [
    {
     "data": {
      "text/plain": [
       "'Helloxiaoxu'"
      ]
     },
     "execution_count": 21,
     "metadata": {},
     "output_type": "execute_result"
    }
   ],
   "source": [
    "\"Hello\"+\"xiaoxu\""
   ]
  },
  {
   "cell_type": "code",
   "execution_count": 22,
   "id": "0676657a",
   "metadata": {},
   "outputs": [],
   "source": [
    "#浮点数与整数"
   ]
  },
  {
   "cell_type": "code",
   "execution_count": 23,
   "id": "8647ec66",
   "metadata": {},
   "outputs": [],
   "source": [
    "#计算加+ 减- 乘* 除/ 整除// 乘方** "
   ]
  },
  {
   "cell_type": "code",
   "execution_count": 25,
   "id": "1854e357",
   "metadata": {},
   "outputs": [
    {
     "name": "stdout",
     "output_type": "stream",
     "text": [
      "10000\n"
     ]
    }
   ],
   "source": [
    "print(10000)"
   ]
  },
  {
   "cell_type": "code",
   "execution_count": 24,
   "id": "03ec8510",
   "metadata": {},
   "outputs": [
    {
     "name": "stdout",
     "output_type": "stream",
     "text": [
      "10000\n"
     ]
    }
   ],
   "source": [
    "print(1_000_0)"
   ]
  },
  {
   "cell_type": "code",
   "execution_count": 26,
   "id": "31d8b159",
   "metadata": {},
   "outputs": [],
   "source": [
    "#bool True=1 False=0"
   ]
  },
  {
   "cell_type": "code",
   "execution_count": 28,
   "id": "48dac4cf",
   "metadata": {},
   "outputs": [
    {
     "name": "stdout",
     "output_type": "stream",
     "text": [
      "True\n",
      "False\n"
     ]
    }
   ],
   "source": [
    "print(True)\n",
    "print(False)"
   ]
  },
  {
   "cell_type": "code",
   "execution_count": 30,
   "id": "58040829",
   "metadata": {},
   "outputs": [
    {
     "name": "stdout",
     "output_type": "stream",
     "text": [
      "0 0 0\n"
     ]
    }
   ],
   "source": [
    "x,y,z=0,0,0\n",
    "print(x,y,z)"
   ]
  },
  {
   "cell_type": "code",
   "execution_count": null,
   "id": "74db1ee5",
   "metadata": {},
   "outputs": [],
   "source": []
  }
 ],
 "metadata": {
  "kernelspec": {
   "display_name": "Python 3 (ipykernel)",
   "language": "python",
   "name": "python3"
  },
  "language_info": {
   "codemirror_mode": {
    "name": "ipython",
    "version": 3
   },
   "file_extension": ".py",
   "mimetype": "text/x-python",
   "name": "python",
   "nbconvert_exporter": "python",
   "pygments_lexer": "ipython3",
   "version": "3.11.5"
  },
  "widgets": {
   "application/vnd.jupyter.widget-state+json": {
    "state": {},
    "version_major": 2,
    "version_minor": 0
   }
  }
 },
 "nbformat": 4,
 "nbformat_minor": 5
}
