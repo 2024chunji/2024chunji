{
 "cells": [
  {
   "cell_type": "markdown",
   "id": "37e548c9",
   "metadata": {},
   "source": [
    "# 第四章\n"
   ]
  },
  {
   "cell_type": "markdown",
   "id": "fa6e2c7f",
   "metadata": {},
   "source": [
    "## 4.1遍历列表"
   ]
  },
  {
   "cell_type": "code",
   "execution_count": 1,
   "id": "d3fcb5c8",
   "metadata": {},
   "outputs": [
    {
     "name": "stdout",
     "output_type": "stream",
     "text": [
      "alice\n",
      "alice\n",
      "daivid\n",
      "daivid\n",
      "carilina\n",
      "carilina\n"
     ]
    }
   ],
   "source": [
    "mags=['alice','daivid','carilina']\n",
    "for mag in mags:#注意缩进\n",
    "    print(mag)\n",
    "    print(mag)\n"
   ]
  },
  {
   "cell_type": "code",
   "execution_count": 3,
   "id": "d80ff9c1",
   "metadata": {},
   "outputs": [
    {
     "name": "stdout",
     "output_type": "stream",
     "text": [
      "1\n",
      "2\n",
      "3\n",
      "4\n"
     ]
    }
   ],
   "source": [
    "for value in range(1,5):#range的使用不包含末尾\n",
    "    print(value)"
   ]
  },
  {
   "cell_type": "markdown",
   "id": "ee107880",
   "metadata": {},
   "source": [
    "## 4.3创建数值列表"
   ]
  },
  {
   "cell_type": "code",
   "execution_count": 2,
   "id": "43b40d6b",
   "metadata": {},
   "outputs": [
    {
     "name": "stdout",
     "output_type": "stream",
     "text": [
      "[1, 4, 9, 16, 25, 36, 49, 64, 81, 100]\n"
     ]
    }
   ],
   "source": [
    "#range(start,end,step)\n",
    "squares = [value**2 for value in range(1,11)]\n",
    "print(squares)"
   ]
  },
  {
   "cell_type": "code",
   "execution_count": 3,
   "id": "e5c23fb7",
   "metadata": {},
   "outputs": [
    {
     "name": "stdout",
     "output_type": "stream",
     "text": [
      "1\n",
      "5\n",
      "15\n"
     ]
    }
   ],
   "source": [
    "#列表的简单统计计算\n",
    "digits = [1,2,3,4,5]\n",
    "print(min(digits))\n",
    "print(max(digits))\n",
    "print(sum(digits))"
   ]
  },
  {
   "cell_type": "markdown",
   "id": "c7f12b8e",
   "metadata": {},
   "source": [
    "## 4.4 切片"
   ]
  },
  {
   "cell_type": "code",
   "execution_count": 11,
   "id": "328c7453",
   "metadata": {},
   "outputs": [
    {
     "name": "stdout",
     "output_type": "stream",
     "text": [
      "['charle', 'mart', 'michael']\n",
      "['mart', 'michael']\n",
      "['charle', 'mart', 'michael', 'florence']\n",
      "['charle', 'mart', 'michael']\n"
     ]
    }
   ],
   "source": [
    "#\n",
    "players=['charle','mart','michael','florence']\n",
    "print(players[:3])\n",
    "print(players[1:3])\n",
    "print(players[-4:])\n",
    "print(players[-4:-1])"
   ]
  },
  {
   "cell_type": "code",
   "execution_count": 13,
   "id": "da061ee8",
   "metadata": {},
   "outputs": [
    {
     "name": "stdout",
     "output_type": "stream",
     "text": [
      "['p', 'f', 'c', 'can']\n",
      "['p', 'f', 'c', 'ice']\n"
     ]
    }
   ],
   "source": [
    "#列表的拷贝:注意使用切片的区别\n",
    "myf=['p','f','c']\n",
    "frf=myf[:]\n",
    "myf.append('can')\n",
    "frf.append('ice')\n",
    "print(myf)\n",
    "print(frf)\n"
   ]
  },
  {
   "cell_type": "code",
   "execution_count": 14,
   "id": "b1a323e1",
   "metadata": {},
   "outputs": [
    {
     "name": "stdout",
     "output_type": "stream",
     "text": [
      "['p', 'f', 'c', 'can', 'ice']\n",
      "['p', 'f', 'c', 'can', 'ice']\n"
     ]
    }
   ],
   "source": [
    "myf=['p','f','c']\n",
    "frf=myf\n",
    "myf.append('can')\n",
    "frf.append('ice')\n",
    "print(myf)\n",
    "print(frf)\n"
   ]
  },
  {
   "cell_type": "markdown",
   "id": "1a63d6b8",
   "metadata": {},
   "source": [
    "## 4.5元组"
   ]
  },
  {
   "cell_type": "code",
   "execution_count": 12,
   "id": "7dcbbbd3",
   "metadata": {},
   "outputs": [
    {
     "name": "stdout",
     "output_type": "stream",
     "text": [
      "200\n"
     ]
    }
   ],
   "source": [
    "#元组不可以改变\n",
    "d=(200,50)\n",
    "print(d[0])"
   ]
  },
  {
   "cell_type": "code",
   "execution_count": null,
   "id": "0c2472db",
   "metadata": {},
   "outputs": [],
   "source": []
  }
 ],
 "metadata": {
  "kernelspec": {
   "display_name": "Python 3 (ipykernel)",
   "language": "python",
   "name": "python3"
  },
  "language_info": {
   "codemirror_mode": {
    "name": "ipython",
    "version": 3
   },
   "file_extension": ".py",
   "mimetype": "text/x-python",
   "name": "python",
   "nbconvert_exporter": "python",
   "pygments_lexer": "ipython3",
   "version": "3.11.5"
  }
 },
 "nbformat": 4,
 "nbformat_minor": 5
}
