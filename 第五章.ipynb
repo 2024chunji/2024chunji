{
 "cells": [
  {
   "cell_type": "markdown",
   "id": "52bf1c05",
   "metadata": {},
   "source": [
    "# 第五章"
   ]
  },
  {
   "cell_type": "markdown",
   "id": "8d3b9f5b",
   "metadata": {},
   "source": [
    "## 5.1if语句"
   ]
  },
  {
   "cell_type": "code",
   "execution_count": 2,
   "id": "5b1f94d8",
   "metadata": {},
   "outputs": [
    {
     "name": "stdout",
     "output_type": "stream",
     "text": [
      "Audo\n",
      "BMW\n",
      "Subaru\n",
      "Toyota\n"
     ]
    }
   ],
   "source": [
    "cars=['audo','bmw','subaru','toyota']\n",
    "for car in cars:\n",
    "    if car =='bmw':\n",
    "        print(car.upper())\n",
    "    else:\n",
    "        print(car.title())"
   ]
  },
  {
   "cell_type": "markdown",
   "id": "e58b3164",
   "metadata": {},
   "source": [
    "## 布尔测试"
   ]
  },
  {
   "cell_type": "code",
   "execution_count": 3,
   "id": "175a6038",
   "metadata": {},
   "outputs": [
    {
     "name": "stdout",
     "output_type": "stream",
     "text": [
      "False\n",
      "True\n"
     ]
    }
   ],
   "source": [
    "car='Audi'\n",
    "print(car=='audi')\n",
    "print(car.lower()=='audi')\n",
    "##式子成立则是True，否则为False"
   ]
  },
  {
   "cell_type": "code",
   "execution_count": 4,
   "id": "ecee10bc",
   "metadata": {},
   "outputs": [
    {
     "name": "stdout",
     "output_type": "stream",
     "text": [
      "True\n",
      "False\n",
      "False\n",
      "True\n"
     ]
    }
   ],
   "source": [
    "##也可以使用 in和not.并且and表示与，or表示或\n",
    "r=['m','o']\n",
    "print('m'in r)\n",
    "print('p' in r)\n",
    "print('m' not in r)\n",
    "print('p' not in r)"
   ]
  },
  {
   "cell_type": "markdown",
   "id": "65143d1e",
   "metadata": {},
   "source": [
    "## IF语句"
   ]
  },
  {
   "cell_type": "code",
   "execution_count": 1,
   "id": "c194685a",
   "metadata": {},
   "outputs": [
    {
     "name": "stdout",
     "output_type": "stream",
     "text": [
      "no\n"
     ]
    }
   ],
   "source": [
    "age=17\n",
    "if(age>=18):\n",
    "    print(\"ok\")\n",
    "else:\n",
    "    print(\"no\")"
   ]
  },
  {
   "cell_type": "code",
   "execution_count": 2,
   "id": "eb98887f",
   "metadata": {},
   "outputs": [
    {
     "name": "stdout",
     "output_type": "stream",
     "text": [
      "cost30\n"
     ]
    }
   ],
   "source": [
    "age=17\n",
    "if age<4:\n",
    "    print('cost 10')\n",
    "elif age<14:\n",
    "    print('cost 20')\n",
    "else:\n",
    "    print('cost30')"
   ]
  },
  {
   "cell_type": "code",
   "execution_count": 5,
   "id": "826059f1",
   "metadata": {},
   "outputs": [],
   "source": [
    "#else 运行的条件是上一个条件不成立，而多个if语句需要都进行判断\n"
   ]
  },
  {
   "cell_type": "markdown",
   "id": "a7c96ac0",
   "metadata": {},
   "source": [
    "## 检查元素"
   ]
  },
  {
   "cell_type": "code",
   "execution_count": 6,
   "id": "52231479",
   "metadata": {},
   "outputs": [
    {
     "name": "stdout",
     "output_type": "stream",
     "text": [
      "Addingm.\n",
      "sorry,we are out of ham.\n",
      "\n",
      "finished making your pizza!\n"
     ]
    }
   ],
   "source": [
    "add=['m','h']\n",
    "for a in add:\n",
    "    if a == 'h':\n",
    "        print(\"sorry,we are out of ham.\")\n",
    "    else:\n",
    "        print(f\"Adding{a}.\")\n",
    "print(\"\\nfinished making your pizza!\")"
   ]
  },
  {
   "cell_type": "code",
   "execution_count": 7,
   "id": "706d7e36",
   "metadata": {},
   "outputs": [
    {
     "name": "stdout",
     "output_type": "stream",
     "text": [
      "Are you want a plain pizza?\n"
     ]
    }
   ],
   "source": [
    "#确定列表非空\n",
    "#将数值0、None、“”、[]、()、{}作为条件时，都会返回False\n",
    "rs=[]\n",
    "if rs:\n",
    "    for r in rs:\n",
    "        print(f\"Adding{r}\")\n",
    "    print(\"\\nfinished making your pizza!\")\n",
    "else:\n",
    "    print(\"Are you want a plain pizza?\")\n",
    "    "
   ]
  },
  {
   "cell_type": "code",
   "execution_count": 9,
   "id": "3d488b81",
   "metadata": {},
   "outputs": [
    {
     "name": "stdout",
     "output_type": "stream",
     "text": [
      "Adding m\n",
      "Adding c\n",
      "sorry, we do not have coo\n",
      "\n",
      "finished making your pizza!\n"
     ]
    }
   ],
   "source": [
    "#使用多个列表\n",
    "at=['m','h','c']\n",
    "rts=['m','c','coo']\n",
    "for r in rts:\n",
    "    if r in at:\n",
    "        print(f\"Adding {r}\")\n",
    "    else:\n",
    "        print(f\"sorry, we do not have {r}\")\n",
    "print(\"\\nfinished making your pizza!\")"
   ]
  },
  {
   "cell_type": "code",
   "execution_count": null,
   "id": "46bd4dbb",
   "metadata": {},
   "outputs": [],
   "source": []
  }
 ],
 "metadata": {
  "kernelspec": {
   "display_name": "Python 3 (ipykernel)",
   "language": "python",
   "name": "python3"
  },
  "language_info": {
   "codemirror_mode": {
    "name": "ipython",
    "version": 3
   },
   "file_extension": ".py",
   "mimetype": "text/x-python",
   "name": "python",
   "nbconvert_exporter": "python",
   "pygments_lexer": "ipython3",
   "version": "3.11.5"
  }
 },
 "nbformat": 4,
 "nbformat_minor": 5
}
