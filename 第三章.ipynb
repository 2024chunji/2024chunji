{
 "cells": [
  {
   "cell_type": "markdown",
   "id": "351b8ccf",
   "metadata": {},
   "source": [
    "# 第三章"
   ]
  },
  {
   "cell_type": "markdown",
   "id": "5f619f53",
   "metadata": {},
   "source": [
    "## 3.1列表"
   ]
  },
  {
   "cell_type": "code",
   "execution_count": 1,
   "id": "3f082839",
   "metadata": {},
   "outputs": [
    {
     "name": "stdout",
     "output_type": "stream",
     "text": [
      "['trek', 'red', 'gid']\n"
     ]
    }
   ],
   "source": [
    "bike=['trek','red','gid']\n",
    "print(bike)"
   ]
  },
  {
   "cell_type": "code",
   "execution_count": 2,
   "id": "d01bd6b7",
   "metadata": {},
   "outputs": [
    {
     "name": "stdout",
     "output_type": "stream",
     "text": [
      "trek gid gid\n"
     ]
    }
   ],
   "source": [
    "#索引列表\n",
    "print(bike[0],bike[2],bike[-1])"
   ]
  },
  {
   "cell_type": "code",
   "execution_count": 3,
   "id": "59c986c1",
   "metadata": {},
   "outputs": [
    {
     "name": "stdout",
     "output_type": "stream",
     "text": [
      "My first bicycle was a Trek.\n"
     ]
    }
   ],
   "source": [
    "message=f\"My first bicycle was a {bike[0].title()}.\"\n",
    "print(message)"
   ]
  },
  {
   "cell_type": "code",
   "execution_count": 4,
   "id": "6c936db2",
   "metadata": {},
   "outputs": [
    {
     "name": "stdout",
     "output_type": "stream",
     "text": [
      "['duca', 'red', 'gid']\n"
     ]
    }
   ],
   "source": [
    "#列表可以修改元素\n",
    "bike[0]='duca'\n",
    "print(bike)"
   ]
  },
  {
   "cell_type": "code",
   "execution_count": 5,
   "id": "5f69b6a4",
   "metadata": {},
   "outputs": [],
   "source": [
    "#末尾添加新元素\n",
    "bike.append('red')"
   ]
  },
  {
   "cell_type": "code",
   "execution_count": 6,
   "id": "1ae99e4c",
   "metadata": {},
   "outputs": [
    {
     "name": "stdout",
     "output_type": "stream",
     "text": [
      "['trek', 'duca', 'red', 'gid', 'red']\n"
     ]
    }
   ],
   "source": [
    "#指定位置加新元素\n",
    "bike.insert(0,'trek')\n",
    "print(bike)"
   ]
  },
  {
   "cell_type": "code",
   "execution_count": 7,
   "id": "7b58d46a",
   "metadata": {},
   "outputs": [
    {
     "name": "stdout",
     "output_type": "stream",
     "text": [
      "['duca', 'red', 'gid', 'red']\n"
     ]
    }
   ],
   "source": [
    "#从列表中删除元素\n",
    "del(bike[0])\n",
    "print(bike)"
   ]
  },
  {
   "cell_type": "code",
   "execution_count": 8,
   "id": "8134cd98",
   "metadata": {},
   "outputs": [
    {
     "name": "stdout",
     "output_type": "stream",
     "text": [
      "red\n",
      "['red', 'gid']\n",
      "duca\n"
     ]
    }
   ],
   "source": [
    "#删除并索引\n",
    "popbike=bike.pop(0)\n",
    "print(bike.pop())\n",
    "print(bike)\n",
    "print(popbike)"
   ]
  },
  {
   "cell_type": "code",
   "execution_count": 9,
   "id": "15e3aa02",
   "metadata": {},
   "outputs": [
    {
     "name": "stdout",
     "output_type": "stream",
     "text": [
      "['gid']\n"
     ]
    }
   ],
   "source": [
    "#根据值来删除元素\n",
    "too_expensive=\"red\"\n",
    "bike.remove(too_expensive)\n",
    "print(bike)"
   ]
  },
  {
   "cell_type": "code",
   "execution_count": 10,
   "id": "bb521095",
   "metadata": {},
   "outputs": [
    {
     "name": "stdout",
     "output_type": "stream",
     "text": [
      "[1, 2, 4, 6, 9]\n",
      "[9, 6, 1, 4, 2]\n",
      "[1, 2, 4, 6, 9]\n",
      "[9, 6, 4, 2, 1]\n"
     ]
    }
   ],
   "source": [
    "#排序，有原列表是否变化之分\n",
    "num=[9,6,1,4,2]\n",
    "print(sorted(num))\n",
    "print(num)\n",
    "num.sort()\n",
    "print(num)\n",
    "num.sort(reverse=True)\n",
    "print(num)"
   ]
  },
  {
   "cell_type": "code",
   "execution_count": 11,
   "id": "d5454094",
   "metadata": {},
   "outputs": [
    {
     "name": "stdout",
     "output_type": "stream",
     "text": [
      "[2, 4, 1, 6, 9]\n"
     ]
    }
   ],
   "source": [
    "#翻转列表并永久修改\n",
    "num=[9,6,1,4,2]\n",
    "num.reverse()\n",
    "print(num)"
   ]
  },
  {
   "cell_type": "code",
   "execution_count": 12,
   "id": "dd149841",
   "metadata": {},
   "outputs": [
    {
     "name": "stdout",
     "output_type": "stream",
     "text": [
      "4\n"
     ]
    }
   ],
   "source": [
    "#获取列表长度\n",
    "car=['bmw','audi','toyota','subaru']\n",
    "print(len(car))"
   ]
  },
  {
   "cell_type": "code",
   "execution_count": null,
   "id": "2b7f73f4",
   "metadata": {},
   "outputs": [],
   "source": []
  }
 ],
 "metadata": {
  "kernelspec": {
   "display_name": "Python 3 (ipykernel)",
   "language": "python",
   "name": "python3"
  },
  "language_info": {
   "codemirror_mode": {
    "name": "ipython",
    "version": 3
   },
   "file_extension": ".py",
   "mimetype": "text/x-python",
   "name": "python",
   "nbconvert_exporter": "python",
   "pygments_lexer": "ipython3",
   "version": "3.11.5"
  }
 },
 "nbformat": 4,
 "nbformat_minor": 5
}
