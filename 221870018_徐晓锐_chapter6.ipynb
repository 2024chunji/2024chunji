{
 "cells": [
  {
   "cell_type": "markdown",
   "id": "191da39f",
   "metadata": {},
   "source": [
    "# 第六章 字典"
   ]
  },
  {
   "cell_type": "markdown",
   "id": "bf5dc772",
   "metadata": {},
   "source": [
    "## 6.1 简单的字典"
   ]
  },
  {
   "cell_type": "code",
   "execution_count": 1,
   "id": "480097b1",
   "metadata": {},
   "outputs": [
    {
     "name": "stdout",
     "output_type": "stream",
     "text": [
      "green\n",
      "5\n"
     ]
    }
   ],
   "source": [
    "alien={'color':'green','point':'5'}\n",
    "print(alien['color'])\n",
    "print(alien['point'])"
   ]
  },
  {
   "cell_type": "markdown",
   "id": "f34c101d",
   "metadata": {},
   "source": [
    "## 6.2 字典的使用"
   ]
  },
  {
   "cell_type": "code",
   "execution_count": 3,
   "id": "3ad0caee",
   "metadata": {},
   "outputs": [
    {
     "name": "stdout",
     "output_type": "stream",
     "text": [
      "you just earned 5 points\n"
     ]
    }
   ],
   "source": [
    "## 赋值\n",
    "points=alien['point']\n",
    "print(f\"you just earned {points} points\")"
   ]
  },
  {
   "cell_type": "code",
   "execution_count": 4,
   "id": "89df8aae",
   "metadata": {},
   "outputs": [
    {
     "name": "stdout",
     "output_type": "stream",
     "text": [
      "{'color': 'green', 'point': '5', 'xpos': 0, 'ypos': 20}\n"
     ]
    }
   ],
   "source": [
    "##添加键值对\n",
    "alien['xpos']=0\n",
    "alien['ypos']=20\n",
    "print(alien)\n",
    "##创建一个空字典，然后添加 #alien={}"
   ]
  },
  {
   "cell_type": "code",
   "execution_count": 6,
   "id": "e6420a6c",
   "metadata": {},
   "outputs": [
    {
     "name": "stdout",
     "output_type": "stream",
     "text": [
      "yellow\n"
     ]
    }
   ],
   "source": [
    "##修改值\n",
    "alien['color']='yellow'\n",
    "print(alien['color'])"
   ]
  },
  {
   "cell_type": "code",
   "execution_count": 7,
   "id": "dc78e158",
   "metadata": {},
   "outputs": [
    {
     "name": "stdout",
     "output_type": "stream",
     "text": [
      "{'color': 'yellow', 'xpos': 0, 'ypos': 20}\n"
     ]
    }
   ],
   "source": [
    "##删除键值对\n",
    "del alien['point']\n",
    "print(alien)"
   ]
  },
  {
   "cell_type": "code",
   "execution_count": 10,
   "id": "46b3bdae",
   "metadata": {},
   "outputs": [
    {
     "name": "stdout",
     "output_type": "stream",
     "text": [
      "Sarah favorite language is C\n"
     ]
    }
   ],
   "source": [
    "##由类似对象组成的字典\n",
    "favorite_language ={\n",
    "    'jen':'python',\n",
    "    'sarah':'c',\n",
    "    'edward':'rust',\n",
    "    'phil':'python'\n",
    "}\n",
    "language = favorite_language['sarah'].title()\n",
    "print(f\"Sarah favorite language is {language}\")"
   ]
  },
  {
   "cell_type": "code",
   "execution_count": 11,
   "id": "f2e62679",
   "metadata": {},
   "outputs": [
    {
     "name": "stdout",
     "output_type": "stream",
     "text": [
      "No point\n"
     ]
    }
   ],
   "source": [
    "##使用get()访问值\n",
    "point=alien.get('point','No point')\n",
    "print(point)"
   ]
  },
  {
   "cell_type": "markdown",
   "id": "bdb42b09",
   "metadata": {},
   "source": [
    "##  6.3遍历字典"
   ]
  },
  {
   "cell_type": "code",
   "execution_count": 14,
   "id": "1afce33a",
   "metadata": {},
   "outputs": [
    {
     "name": "stdout",
     "output_type": "stream",
     "text": [
      "\n",
      "key:color\n",
      "\n",
      "value:yellow\n",
      "\n",
      "key:xpos\n",
      "\n",
      "value:0\n",
      "\n",
      "key:ypos\n",
      "\n",
      "value:20\n"
     ]
    }
   ],
   "source": [
    "for k,v in alien.items():\n",
    "    print(f\"\\nkey:{k}\")\n",
    "    print(f\"\\nvalue:{v}\")"
   ]
  },
  {
   "cell_type": "code",
   "execution_count": 15,
   "id": "8595e4b5",
   "metadata": {},
   "outputs": [
    {
     "name": "stdout",
     "output_type": "stream",
     "text": [
      "Jen\n",
      "Sarah\n",
      "Edward\n",
      "Phil\n"
     ]
    }
   ],
   "source": [
    "for name in favorite_language.keys():\n",
    "    print(name.title())\n",
    "##将key去掉，输出不变"
   ]
  },
  {
   "cell_type": "code",
   "execution_count": 17,
   "id": "46e347fa",
   "metadata": {},
   "outputs": [
    {
     "name": "stdout",
     "output_type": "stream",
     "text": [
      "Erin, please take your poll\n"
     ]
    }
   ],
   "source": [
    "if 'erin' not in favorite_language.keys():\n",
    "    print(\"Erin, please take your poll\")"
   ]
  },
  {
   "cell_type": "code",
   "execution_count": 19,
   "id": "40d29d0a",
   "metadata": {},
   "outputs": [
    {
     "name": "stdout",
     "output_type": "stream",
     "text": [
      "Edward\n",
      "Jen\n",
      "Phil\n",
      "Sarah\n"
     ]
    }
   ],
   "source": [
    "#按特定顺序遍历字典所有建\n",
    "for name in sorted(favorite_language.keys()):\n",
    "    print(f\"{name.title()}\")"
   ]
  },
  {
   "cell_type": "code",
   "execution_count": 22,
   "id": "970b7e32",
   "metadata": {},
   "outputs": [
    {
     "name": "stdout",
     "output_type": "stream",
     "text": [
      "Python\n",
      "C\n",
      "Rust\n",
      "Python\n"
     ]
    }
   ],
   "source": [
    "#遍历值\n",
    "for language in favorite_language.values():\n",
    "    print(language.title())"
   ]
  },
  {
   "cell_type": "code",
   "execution_count": 23,
   "id": "d4525b69",
   "metadata": {},
   "outputs": [
    {
     "name": "stdout",
     "output_type": "stream",
     "text": [
      "Rust\n",
      "C\n",
      "Python\n"
     ]
    }
   ],
   "source": [
    "#避免重复元素\n",
    "for language in set(favorite_language.values()):\n",
    "    print(language.title())"
   ]
  },
  {
   "cell_type": "markdown",
   "id": "b751cbc8",
   "metadata": {},
   "source": [
    "## 6.4 嵌套"
   ]
  },
  {
   "cell_type": "code",
   "execution_count": 24,
   "id": "2fc4bfd2",
   "metadata": {},
   "outputs": [
    {
     "name": "stdout",
     "output_type": "stream",
     "text": [
      "{'color': 'green', 'point': 5}\n",
      "{'color': 'yellow', 'point': 10}\n",
      "{'color': 'red', 'point': 15}\n"
     ]
    }
   ],
   "source": [
    "## 字典列表\n",
    "alien_0={'color':'green','point':5}\n",
    "alien_1={'color':'yellow','point':10}\n",
    "alien_2={'color':'red','point':15}\n",
    "aliens = [alien_0,alien_1,alien_2]\n",
    "for alien in aliens:\n",
    "    print(alien)"
   ]
  },
  {
   "cell_type": "code",
   "execution_count": 25,
   "id": "68f2b947",
   "metadata": {},
   "outputs": [],
   "source": [
    "#在字典中储存列表\n",
    "pizza = {\n",
    "    'crust':'thick',\n",
    "    'toppings':['mush','cheese'],\n",
    "}"
   ]
  },
  {
   "cell_type": "code",
   "execution_count": 26,
   "id": "0b198ef9",
   "metadata": {},
   "outputs": [
    {
     "name": "stdout",
     "output_type": "stream",
     "text": [
      "thick\n"
     ]
    }
   ],
   "source": [
    "print(pizza['crust'])"
   ]
  },
  {
   "cell_type": "code",
   "execution_count": 27,
   "id": "6ddf53dd",
   "metadata": {},
   "outputs": [
    {
     "name": "stdout",
     "output_type": "stream",
     "text": [
      "mush\n",
      "cheese\n"
     ]
    }
   ],
   "source": [
    "for topping in pizza['toppings']:\n",
    "    print(topping)"
   ]
  },
  {
   "cell_type": "markdown",
   "id": "245e9c81",
   "metadata": {},
   "source": [
    "## 在字典中储存字典"
   ]
  },
  {
   "cell_type": "code",
   "execution_count": 32,
   "id": "54532c66",
   "metadata": {},
   "outputs": [
    {
     "name": "stdout",
     "output_type": "stream",
     "text": [
      "\n",
      "Username:ae\n",
      "\tFull name: Albert Einstein\n",
      "\tLocation: Princeton\n",
      "\n",
      "Username:mcurie\n",
      "\tFull name: Marie Curie\n",
      "\tLocation: Paris\n"
     ]
    }
   ],
   "source": [
    "users={\n",
    "    'ae':{\n",
    "        'first':'albert',\n",
    "        'last':'einstein',\n",
    "        'location':'princeton',\n",
    "    },\n",
    "    'mcurie':{\n",
    "        'first':'marie',\n",
    "        'last':'curie',\n",
    "        'location':'paris',\n",
    "    },\n",
    "}\n",
    "for username, userinfo in users.items():\n",
    "    print(f\"\\nUsername:{username}\")\n",
    "    full_name = f\"{userinfo['first']} {userinfo['last']}\"\n",
    "    location = userinfo['location']\n",
    "    print(f\"\\tFull name: {full_name.title()}\")\n",
    "    print(f\"\\tLocation: {location.title()}\")"
   ]
  },
  {
   "cell_type": "code",
   "execution_count": null,
   "id": "3b53aeac",
   "metadata": {},
   "outputs": [],
   "source": []
  }
 ],
 "metadata": {
  "kernelspec": {
   "display_name": "Python 3 (ipykernel)",
   "language": "python",
   "name": "python3"
  },
  "language_info": {
   "codemirror_mode": {
    "name": "ipython",
    "version": 3
   },
   "file_extension": ".py",
   "mimetype": "text/x-python",
   "name": "python",
   "nbconvert_exporter": "python",
   "pygments_lexer": "ipython3",
   "version": "3.11.5"
  }
 },
 "nbformat": 4,
 "nbformat_minor": 5
}
